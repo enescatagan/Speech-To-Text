{
 "cells": [
  {
   "cell_type": "markdown",
   "metadata": {},
   "source": [
    "- **symspellpy** library for correcting spelling mistakes of words"
   ]
  },
  {
   "cell_type": "code",
   "execution_count": 1,
   "metadata": {},
   "outputs": [],
   "source": [
    "from symspellpy import SymSpell, Verbosity"
   ]
  },
  {
   "cell_type": "code",
   "execution_count": 5,
   "metadata": {},
   "outputs": [
    {
     "name": "stdout",
     "output_type": "stream",
     "text": [
      "Corrected Word: this is an example of how symspelpy corrects spelling errors\n"
     ]
    }
   ],
   "source": [
    "# Create SymSpell object\n",
    "sym_spell = SymSpell(max_dictionary_edit_distance=2, prefix_length=7)\n",
    "\n",
    "# Load dictionary from file \n",
    "dictionary_path = \"../../data/input/frequency_dictionary_en_82_765.txt\"\n",
    "sym_spell.load_dictionary(dictionary_path, term_index=0, count_index=1)\n",
    "\n",
    "# Test with a misspelled text\n",
    "misspelled_text = \"This is an exmple of how symspelpy corects speling erors.\"\n",
    "\n",
    "# Correct the misspelled text\n",
    "corrected_words = []\n",
    "for word in misspelled_text.split():\n",
    "    suggestions = sym_spell.lookup(word, Verbosity.CLOSEST, max_edit_distance=2)\n",
    "    corrected_word = suggestions[0].term if suggestions else word  # Use the suggestion if available, otherwise use the word\n",
    "    corrected_words.append(corrected_word)\n",
    "\n",
    "# Join the corrected words to get the corrected text\n",
    "corrected_text = \" \".join(corrected_words)\n",
    "print(\"Corrected Word:\", corrected_text)\n"
   ]
  }
 ],
 "metadata": {
  "kernelspec": {
   "display_name": ".venv",
   "language": "python",
   "name": "python3"
  },
  "language_info": {
   "codemirror_mode": {
    "name": "ipython",
    "version": 3
   },
   "file_extension": ".py",
   "mimetype": "text/x-python",
   "name": "python",
   "nbconvert_exporter": "python",
   "pygments_lexer": "ipython3",
   "version": "3.11.9"
  }
 },
 "nbformat": 4,
 "nbformat_minor": 2
}
