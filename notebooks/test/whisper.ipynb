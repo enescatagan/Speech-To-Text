{
 "cells": [
  {
   "cell_type": "code",
   "execution_count": 33,
   "metadata": {},
   "outputs": [],
   "source": [
    "import whisper\n",
    "from openai import OpenAI"
   ]
  },
  {
   "cell_type": "code",
   "execution_count": 34,
   "metadata": {},
   "outputs": [],
   "source": [
    "# File Path of the audio file\n",
    "file_path = \"../../data/input/Godzilla.mp3\""
   ]
  },
  {
   "cell_type": "code",
   "execution_count": 35,
   "metadata": {},
   "outputs": [
    {
     "name": "stdout",
     "output_type": "stream",
     "text": [
      " Ugh, you're a monster I can swallow a bottle of alcohol and a feel like Godzilla Better hit the deck like the cartilla My whole squad's I'm here walking around the party Across between a zombie, a pocket of symbibombida Rain-hearing witches probably the same reason I wrestle with vanias, shadis and a bitch I'm posseed I'm considerate to cross me across the mistake If they sleep in armidum, hose better get insomnia A.D.H.D. hot-drocksie cut, that's the prophecy In dirt, in dirt, in dirt, in a K-me lay, in a set If they can play date, been a vacate, retreat Like a vacate, may day This beat is crick-ray, ray-chay, ha-chay, ha-chay Matt Fee all the way to the bank, got spring flames They cannot tame a play-cake, the monster You get in my way, I'm gonna feed you to the monster I'm no more during the day, but at night I do a monster When the moush eyes like ice roll truckers I look like a villain that ain't always blocked by stars Up to the fire, spit a monster But I'm the best on the Louis V. Carpest Fire, but to the fire, I'm the best on the Louis V. Carpest I'm just a product of flicks, wicked, honest What a nick that balls had, I'm just a pallid So many things that pissed them off It's impossible to list them off And in the midst of all this, I'm in the middle Hots, put a little crystal ball, trying to see what I see Well I still be like this tomorrow, wrist, but all voices Whisper, puff, kisses, ball back up against the wall Pin-so-drawn, this is just the song that go ballistic Gone, you just stole a pistol, undergar with a missile launcher I'm just a lock, just a mythological Quick to tell a bitch you off like a fit the vodka I'm a monster, you get in my way, I'm gonna feed you to the monster I'm no more during the day, but at night I do a monster When the moon shines like ice world chargers I look like a villain that ain't always blocked by stars Up to the fire, spit a monster But I'm the best on the Louis V. Carpest Fire, but to the fire, I'm the best on the Louis V. Carpest Fire, but to the fire, I'm the best on the Louis V. Carpest If you never gave a damn, raise your hand Cause I'm about to send trip, vacation plans I'm one point like my indexes, so are you a levergett? It's from a little fucking finger finger, past the exam How can I have all these fans to perspire like a liar's pants I'm on fire And I got no plans to retire and I'm still a man You would admire these chicks as fast and I only get my hands I'm in fire I got them passing out like what you do when you're in someone flyers And when it goes around comes around just like the plates on the chainsaw Cause I caught the flag by my dollar stack right off the bat like a baseball Like kidding, bitch I got them wax with so much ease that they call me giddy Cause I make bands and night call getting cheesers cake balls But I'm a player, I'm too motherfuckin' stingy for share Won't even linchin' in here and even pretending to care But I tell a bitch I'm aria of Shabaria face on my genital area The original richer are mares, Christian Rebex My larynx never sit well, so they want to give me the chance Like a paraplegic and it's scary call a hairy carry Cause there's time and they can hairy carry a marium Motherfuckin' dictionary, I'm swearing up and down They can spit the shit to Larry, so it's time to put these bitches in the year Bitcha-wary column, we wouldn't see I, I would've staring problem Get the chef like a staring column, we're not, ha-ha Drink a happy pack, keep it as black ink, you will have for the bad meets Evil that means, take a back seat, take a back to fat beats What a max, he's single, look at my rap sheet, what attracts these people Is my gangsta bitch like a patchy, what a catchy jiggle, I stack chips, you better gotta have feet She don't, fillin' with the venom in eliminated Motherfuckin' me no matter what her, I'm gonna get em in a fit of rage I'm murderin' her, get nobody, we'll live in a fit of killer Kill em' and dump with the fucking bodies in a league of literating Everything is senator, ain't a fit of me Ain't nobody who wanted with the venom frame, don't nobody want it But they're gonna get it anyway Cause I'm a gettin' to fillin' in a fit of me Tell the killer, be killin' me killin' me killin' me Killin' me killin' me killin' me killin' me killin' me killin' me killin' me You don't wanna be the enemy of the demon, you wanna be me of the enemy of the enemy And you're receiving an enemy, what stupidity to get to be every bit of me You get a fit of me, you got the spit of me, when I'm in the vicinity Motherfuckin' you better duck, you better be dead than me You run an enemy, 100% of you was a fifth of a person And me, motherfuckin' the fittest you bitch, I'm a vatable You wanna battle, I'm available, I'm low, I'm a black and inflatable I'm undebatable, I'm unavoidable, I'm undevatable, I'm undevatable I got a trailer for the money, and I'm paid it for them, I'm not afraid to pull them Man stop, look what I'm playing you\n"
     ]
    }
   ],
   "source": [
    "# Load the base model\n",
    "model = whisper.load_model(\"base\")\n",
    "\n",
    "# Transcribe an audio file\n",
    "result = model.transcribe(file_path)\n",
    "\n",
    "# Write Result\n",
    "print(result[\"text\"])"
   ]
  }
 ],
 "metadata": {
  "kernelspec": {
   "display_name": ".venv",
   "language": "python",
   "name": "python3"
  },
  "language_info": {
   "codemirror_mode": {
    "name": "ipython",
    "version": 3
   },
   "file_extension": ".py",
   "mimetype": "text/x-python",
   "name": "python",
   "nbconvert_exporter": "python",
   "pygments_lexer": "ipython3",
   "version": "3.11.9"
  }
 },
 "nbformat": 4,
 "nbformat_minor": 2
}
