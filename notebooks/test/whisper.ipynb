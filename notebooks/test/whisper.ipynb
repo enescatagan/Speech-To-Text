{
 "cells": [
  {
   "cell_type": "code",
   "execution_count": 40,
   "metadata": {},
   "outputs": [],
   "source": [
    "import whisper"
   ]
  },
  {
   "cell_type": "code",
   "execution_count": 41,
   "metadata": {},
   "outputs": [],
   "source": [
    "# File Path of the audio file\n",
    "file_path = \"../../data/input/Godzilla.mp3\""
   ]
  },
  {
   "cell_type": "code",
   "execution_count": 42,
   "metadata": {},
   "outputs": [],
   "source": [
    "# Load the base model\n",
    "base_model = whisper.load_model(\"base\")"
   ]
  },
  {
   "cell_type": "markdown",
   "metadata": {},
   "source": [
    "# 1. Transcribe mp3 directly"
   ]
  },
  {
   "cell_type": "code",
   "execution_count": 43,
   "metadata": {},
   "outputs": [
    {
     "name": "stdout",
     "output_type": "stream",
     "text": [
      " Ugh, you're a monster I can swallow a bottle of alcohol and a feel like Godzilla Better hit the deck like the cartilla My whole squad's I'm here walking around the party Across between a zombie, a pocket of symbibombida Rain-hearing witches probably the same reason I wrestle with vanias, shadis and a bitch I'm posseed I'm considerate to cross me across the mistake If they sleep in armidum, hose better get insomnia A.D.H.D. hot-drocksie cut, that's the prophecy In dirt, in dirt, in dirt, in a K-me lay, in a set If they can play date, been a vacate, retreat Like a vacate, may day This beat is crick-ray, ray-chay, ha-chay, ha-chay Matt Fee all the way to the bank, got spring flames They cannot tame a play-cake, the monster You get in my way, I'm gonna feed you to the monster I'm no more during the day, but at night I do a monster When the moush eyes like ice roll truckers I look like a villain that ain't always blocked by stars Up to the fire, spit a monster But I'm the best on the Louis V. Carpest Fire, but to the fire, I'm the best on the Louis V. Carpest I'm just a product of flicks, wicked, honest What a nick that balls had, I'm just a pallid So many things that pissed them off It's impossible to list them off And in the midst of all this, I'm in the middle Hots, put a little crystal ball, trying to see what I see Well I still be like this tomorrow, wrist, but all voices Whisper, puff, kisses, ball back up against the wall Pin-so-drawn, this is just the song that go ballistic Gone, you just stole a pistol, undergar with a missile launcher I'm just a lock, just a mythological Quick to tell a bitch you off like a fit the vodka I'm a monster, you get in my way, I'm gonna feed you to the monster I'm no more during the day, but at night I do a monster When the moon shines like ice world chargers I look like a villain that ain't always blocked by stars Up to the fire, spit a monster But I'm the best on the Louis V. Carpest Fire, but to the fire, I'm the best on the Louis V. Carpest Fire, but to the fire, I'm the best on the Louis V. Carpest If you never gave a damn, raise your hand Cause I'm about to send trip, vacation plans I'm one point like my indexes, so are you a levergett? It's from a little fucking finger finger, past the exam How can I have all these fans to perspire like a liar's pants I'm on fire And I got no plans to retire and I'm still a man You would admire these chicks as fast and I only get my hands I'm in fire I got them passing out like what you do when you're in someone flyers And when it goes around comes around just like the plates on the chainsaw Cause I caught the flag by my dollar stack right off the bat like a baseball Like kidding, bitch I got them wax with so much ease that they call me giddy Cause I make bands and night call getting cheesers cake balls But I'm a player, I'm too motherfuckin' stingy for share Won't even linchin' in here and even pretending to care But I tell a bitch I'm aria of Shabaria face on my genital area The original richer are mares, Christian Rebex My larynx never sit well, so they want to give me the chance Like a paraplegic and it's scary call a hairy carry Cause there's time and they can hairy carry a marium Motherfuckin' dictionary, I'm swearing up and down They can spit the shit to Larry, so it's time to put these bitches in the year Bitcha-wary column, we wouldn't see I, I would've staring problem Get the chef like a staring column, we're not, ha-ha Drink a happy pack, keep it as black ink, you will have for the bad meets Evil that means, take a back seat, take a back to fat beats What a max, he's single, look at my rap sheet, what attracts these people Is my gangsta bitch like a patchy, what a catchy jiggle, I stack chips, you better gotta have feet She don't, fillin' with the venom in eliminated Motherfuckin' me no matter what her, I'm gonna get em in a fit of rage I'm murderin' her, get nobody, we'll live in a fit of killer Kill em' and dump with the fucking bodies in a league of literating Everything is senator, ain't a fit of me Ain't nobody who wanted with the venom frame, don't nobody want it But they're gonna get it anyway Cause I'm a gettin' to fillin' in a fit of me Tell the killer, be killin' me killin' me killin' me Killin' me killin' me killin' me killin' me killin' me killin' me killin' me You don't wanna be the enemy of the demon, you wanna be me of the enemy of the enemy And you're receiving an enemy, what stupidity to get to be every bit of me You get a fit of me, you got the spit of me, when I'm in the vicinity Motherfuckin' you better duck, you better be dead than me You run an enemy, 100% of you was a fifth of a person And me, motherfuckin' the fittest you bitch, I'm a vatable You wanna battle, I'm available, I'm low, I'm a black and inflatable I'm undebatable, I'm unavoidable, I'm undevatable, I'm undevatable I got a trailer for the money, and I'm paid it for them, I'm not afraid to pull them Man stop, look what I'm playing you\n"
     ]
    }
   ],
   "source": [
    "# Transcribe an audio file\n",
    "result_1 = base_model.transcribe(file_path)\n",
    "\n",
    "# Write Result\n",
    "print(result_1[\"text\"])"
   ]
  },
  {
   "cell_type": "markdown",
   "metadata": {},
   "source": [
    "# 2. Transcribe mp3 with line-by-line"
   ]
  },
  {
   "cell_type": "code",
   "execution_count": null,
   "metadata": {},
   "outputs": [],
   "source": [
    "# Transcribe an audio file with word timestamps\n",
    "result_2 = base_model.transcribe(file_path, word_timestamps=True)"
   ]
  },
  {
   "cell_type": "code",
   "execution_count": 59,
   "metadata": {},
   "outputs": [
    {
     "name": "stdout",
     "output_type": "stream",
     "text": [
      " Ugh,\n",
      " you're a monster I can swallow a bottle of alcohol and a feel like Godzilla Better hit the deck like the cartilla My whole squad's I'm here walking around the party Across between a zombie,\n",
      " a pocket of symbibombida Rain-hearing witches probably the same reason I wrestle with vanias, shadis and a bitch I'm posseed I'm considerate to cross me across the mistake If they sleep in armidum, hose better get insomnia A.D.H.D. hot-drocksie cut,\n",
      " that's the prophecy And I keep a day, but an A.K.A. Me lafe in the city, like a play date Been a vacate,\n",
      " retreat,\n",
      " like a vacate, me day This beat is Craig Ray, J-A-J-A-J-H-J Matt Feet all the way to the bank, got sprang flames They cannot tame a play cake, they're monster You get in my way, I'mma feed you to the monster I'm no more during the day, but at night I do a monster When the moose shines like ice real chargers I look like a villain that a little blockbuster I'm too a fiabid, a monster Burdened and the little oevee carcass Fire,\n",
      " I'm too a monster I'm just a product of flicks, wicked, honest,\n",
      " what a nick that balls had them just to pull that so many things that pissed them off, that's impossible to list them off. And in the midst of all this,\n",
      " I'm in the middle house,\n",
      " but I'm in a crystal ball, trying to see what I see, what I see, like this tomorrow,\n",
      " wrist,\n",
      " but all voices,\n",
      " wrist, but this is ball back up against the wall, pencil drawn,\n",
      " this is just a song, they go ballistic, on you just do the pistol on the guy with a missile launcher. I'm just a lock, this is a mythological, quick to tell a bitch you off like I fit the vodka when you twist the top of the bottle, I'm a monster. You get in my way, I'm gonna feed you to the monster, I'm no more during the day, but at night I took to a monster,\n",
      " when the moonshines like ice world chargers,\n",
      " I look like a villain that it was blocked first up, until the fire's made a monster,\n",
      " blood on the dance on the Louis V.\n",
      " Carpets. Fire,\n",
      " until the fire,\n",
      " I'm gonna start,\n",
      " I'm gonna dance for the boy. If you never gave a damn,\n",
      " raise your hand,\n",
      " cause I'm about to set trip,\n",
      " vacation plans, one point like my indexes, so are you a levergett? It's from a little fucking finger,\n",
      " finger,\n",
      " prostate exam,\n",
      " how can I have all these fans to perspire like a liar's pants I'm on fire and I got no plans to retire and I'm still a man, you would admire these chicks as fast and I only get my hands I'm in fire, I got them passing out like what you do when you're in someone's flyers, and what goes around comes around just like the plates on the chainsaw,\n",
      " cause I caught the flag by my dollar stack right off the bat like a baseball,\n",
      " like kidding,\n",
      " bitch I got them wax with so much ease that they call me giddy cause I make bands and night call getting cheesers, cakewalk, I'm a player,\n",
      " I'm too motherfuckers, stingy for share,\n",
      " won't even linchin'\n",
      " here,\n",
      " and even pretending to care,\n",
      " but I tell a bitch I'm aria of Shabaria, face on my genital area, the original richer of mares, Christian Rebex,\n",
      " my larynx never sit well,\n",
      " so they wanna give me the chance,\n",
      " like a pair of polygic and it's scary, call a hairy carry, cause there's time and they can hairy carry a marion, motherfuckin' dictionary on them,\n",
      " swearing up and down,\n",
      " they can spit the shit to Larry,\n",
      " so it's time to put these bitches in the obituary column, we wouldn't see,\n",
      " I would've staring problem,\n",
      " get the chef like a staring column, we're not,\n",
      " ha, ha, drink a happy pack,\n",
      " keep it, it's my gang, you will have for the bad means, evil that means take a back seat, take a back to fat beats, what a max,\n",
      " he's single, look at my rap sheet,\n",
      " what attracts these people, is my gangsta, bitch like a patchy, what a catchy jiggle, I stack chips,\n",
      " you better gotta have feet, she don't,\n",
      " fill them with the venom and eliminate them, all the words I'm in and me no matter what, I'm a ruckum, but I did them in a fit of rage, I'm murder and I'm a rid of anybody, we live in a fit of killer,\n",
      " let me dump out the fucking bodies, I don't like obliterating, everything is senator, I don't get them in and me get anybody who wanna with the venom,\n",
      " I don't nobody,\n",
      " wanna but they're gonna get it anyway,\n",
      " I'm like in and I feel like I'm in the element, tell a killer, be killer, be the vanilla girl, really you're bringing a killer with them, you don't wanna be the enemy of the demon, who in and me are being perceived,\n",
      " enemy wants to pity,\n",
      " to be every bit of me, it's the epitome, you've got the spitter, I'm in the vicinity,\n",
      " motherfucking you better duck, you better be dead than me,\n",
      " that you're in,\n",
      " enemy 100% you was a fifth of a person, I'm about to fuck the bitch,\n",
      " I'm a VATABOL, you wanna battle, I'm available,\n",
      " I'm low on a blank and inflatable,\n",
      " I'm undebatable,\n",
      " I'm unavoidable,\n",
      " I'm undevatable,\n",
      " I'm untolerable, I gotta try, I'm falling,\n",
      " I'm getting paid, I'm falling, I'm not afraid of the man,\n",
      " stop,\n",
      " look what I'm planning,\n",
      " ha,\n",
      " ha,  ha,  ha,  ha,  ha,  ha,  ha,  ha,  ha,  ha,  ha,  ha,  ha,  ha,  ha,  ha,  ha,  ha,  ha,  ha,  ha,  ha,  ha,  ha,  ha,  ha,  ha,  ha,  ha,  ha,  ha,  ha,  ha,  ha,  ha,  ha,  ha,  ha,  ha,  ha,  ha,  ha,  ha,  ha,  ha,  ha,  ha,  ha,  ha,  ha,  ha,  ha,  ha,  ha,  ha,  ha,  ha,  ha,  ha,  ha,  ha,  ha,  ha,  ha,  ha,  ha,  ha,  ha,  ha,  ha,  ha,  ha,  ha,  ha,  ha,  ha,  ha,  ha,  ha,  ha,  ha,  ha,  ha,  ha,  ha,  ha,  ha,  ha,  ha,  ha,  ha,  ha,  ha,  ha,  ha,  ha,  ha,  ha,  ha,  ha,  ha,  ha,  ha,  ha\n"
     ]
    }
   ],
   "source": [
    "# Lists for storing the lines\n",
    "lines = []\n",
    "current_line = []\n",
    "\n",
    "# Pause threshold (seconds)\n",
    "pause_threshold = 0.1  # 500 milliseconds\n",
    "\n",
    "# Loop Segments\n",
    "for segment in result_2[\"segments\"]:\n",
    "    words = segment.get(\"words\", [])  # Some segments may not have \"words\", let's check\n",
    "    for i, word in enumerate(words):\n",
    "        current_line.append(word[\"word\"])  # Add the word to the current line\n",
    "\n",
    "        # Look at the start time of the next word\n",
    "        if i < len(words) - 1:\n",
    "            next_word_start = words[i + 1][\"start\"]\n",
    "            current_word_end = word[\"end\"]\n",
    "\n",
    "            # If there is a long pause between two words, go to a new line\n",
    "            if next_word_start - current_word_end > pause_threshold:\n",
    "                lines.append(\"\".join(current_line))\n",
    "                current_line = []\n",
    "            \n",
    "# Add the last line\n",
    "if current_line:\n",
    "    lines.append(\" \".join(current_line))\n",
    "    \n",
    "# Print the lines\n",
    "for line in lines:\n",
    "    print(line)"
   ]
  },
  {
   "cell_type": "markdown",
   "metadata": {},
   "source": [
    "With this code, we can move to a new line when a certain amount of milliseconds pass between two words. The example mp3 doesn't work properly because it's Eminem."
   ]
  }
 ],
 "metadata": {
  "kernelspec": {
   "display_name": ".venv",
   "language": "python",
   "name": "python3"
  },
  "language_info": {
   "codemirror_mode": {
    "name": "ipython",
    "version": 3
   },
   "file_extension": ".py",
   "mimetype": "text/x-python",
   "name": "python",
   "nbconvert_exporter": "python",
   "pygments_lexer": "ipython3",
   "version": "3.11.9"
  }
 },
 "nbformat": 4,
 "nbformat_minor": 2
}
